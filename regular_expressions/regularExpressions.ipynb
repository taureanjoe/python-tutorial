{
 "cells": [
  {
   "cell_type": "markdown",
   "id": "c2dec56e",
   "metadata": {},
   "source": [
    "# Regular Expressions\n",
    "\n",
    "Regular expressions, or \"regex\" for short, are a powerful tool for matching patterns in text. In Python, the `re` module provides support for regular expressions. With this module, you can search for patterns in strings, replace parts of strings that match a pattern, and split strings based on a pattern.\n",
    "\n",
    "The basic building blocks of regular expressions are characters and metacharacters. Characters match themselves, while metacharacters are used to match groups of characters or to specify the structure of the pattern. Some examples of metacharacters are `.` (matches any character), `*` (matches zero or more occurrences of the preceding character), `+` (matches one or more occurrences of the preceding character), `?` (matches zero or one occurrence of the preceding character)."
   ]
  },
  {
   "cell_type": "code",
   "execution_count": 1,
   "id": "66a499a7",
   "metadata": {},
   "outputs": [
    {
     "name": "stdout",
     "output_type": "stream",
     "text": [
      "fox\n"
     ]
    }
   ],
   "source": [
    "import re # importing re module to perform regular expressions\n",
    "\n",
    "text = \"The quick brown fox jumps over the lazy dog.\"\n",
    "match = re.search(r\"fox\", text)\n",
    "print(match.group())"
   ]
  },
  {
   "cell_type": "code",
   "execution_count": 2,
   "id": "d2cbb033",
   "metadata": {},
   "outputs": [
    {
     "name": "stdout",
     "output_type": "stream",
     "text": [
      "D:\u0001.dataScience\u0001.Python\n",
      "D:\u0001.dataScience\u0001.Python\n",
      "ewfolder\n",
      "D:\\01.dataScience\\01.Python\\newfolder\n"
     ]
    }
   ],
   "source": [
    "# raw strings in python\n",
    "\n",
    "firstPath = \"D:\\01.dataScience\\01.Python\"\n",
    "\n",
    "secondPath = \"D:\\01.dataScience\\01.Python\\newfolder\" # in strings \"\\n\" would be considered as a newline\n",
    "\n",
    "secondPathModified = r\"D:\\01.dataScience\\01.Python\\newfolder\"\n",
    "\n",
    "\n",
    "\n",
    "print(firstPath)\n",
    "print(secondPath) # n is not displayed because python thinks it is calling for new line\n",
    "print(secondPathModified)"
   ]
  },
  {
   "cell_type": "markdown",
   "id": "57926c1b",
   "metadata": {},
   "source": [
    "### Matching patterns with regex\n",
    "\n",
    "To match a US format phone number like 415-555-4757.\n",
    "\n",
    "In regex, `\\d` stands for digit characters. i.e. any number ranging from 0 - 9.\n",
    "\n",
    "The above pattern can be matched by writing `\\d\\d\\d-\\d\\d\\d-\\d\\d\\d\\d`\n",
    "\n",
    "But regular expressions can be more sophisticated. For example, adding a 3 in braces (`{3}`) after a certain pattern will say that the pattern should be repeated *three times*.\n",
    "\n",
    "Read: https://docs.python.org/3/library/re.html?highlight=re#module-re"
   ]
  },
  {
   "cell_type": "code",
   "execution_count": 3,
   "id": "d00270dc",
   "metadata": {},
   "outputs": [],
   "source": [
    "phoneNumRegex = re.compile(r'(\\d{3})-(\\d{3}-\\d{4})') # saving the pattern using compile"
   ]
  },
  {
   "cell_type": "code",
   "execution_count": 4,
   "id": "2c5190ad",
   "metadata": {},
   "outputs": [
    {
     "name": "stdout",
     "output_type": "stream",
     "text": [
      "312\n"
     ]
    }
   ],
   "source": [
    "mo = phoneNumRegex.search(\"My number is 312-415-2222\")\n",
    "\n",
    "print(mo.group(1))\n"
   ]
  },
  {
   "cell_type": "markdown",
   "id": "4122f88d",
   "metadata": {},
   "source": [
    "mo.groups() returns a tuple of multiple values. We can use `(` and `)` to separate the characters as each groups in the `mo.groups` output.\n",
    "\n",
    "\n",
    "### Special Characters in Regular Expressions\n",
    "\n",
    "`.  ^  $  *  +  ?  {  }  [  ]  \\  |  (  )`\n",
    "\n",
    "\n",
    "If you want to detect any of these characters, you can use a blackslash inorder to display them in your text pattern.\n",
    "\n",
    "\n",
    "# Matching Multiple groups with pipe symbol"
   ]
  },
  {
   "cell_type": "markdown",
   "id": "42d2cfcd",
   "metadata": {},
   "source": [
    "### `|` = The pipe symbol"
   ]
  },
  {
   "cell_type": "code",
   "execution_count": 5,
   "id": "cf67a336",
   "metadata": {},
   "outputs": [
    {
     "name": "stdout",
     "output_type": "stream",
     "text": [
      "Frog\n"
     ]
    }
   ],
   "source": [
    "heroRegex = re.compile(r'Frog|Batman') # saving the pattern using compile\n",
    "\n",
    "mo = heroRegex.search(\"Cat and Frog\")\n",
    "\n",
    "print(mo.group())"
   ]
  },
  {
   "cell_type": "markdown",
   "id": "2b3e4d3f",
   "metadata": {},
   "source": [
    "You can use it anywhere want to match one more expressions. for example the regular expression `r'Frog|Batman'` will match either `'Frog'` or `'Batman'`\n",
    "\n",
    "When both `Batman` and `Frog` occur in the searched string, the first occurrence of matching text will be returned as the `Match` object."
   ]
  },
  {
   "cell_type": "code",
   "execution_count": 9,
   "id": "a34d4c2c",
   "metadata": {},
   "outputs": [
    {
     "data": {
      "text/plain": [
       "'Frog'"
      ]
     },
     "execution_count": 9,
     "metadata": {},
     "output_type": "execute_result"
    }
   ],
   "source": [
    "mo2 = heroRegex.search('Frog and Batman')\n",
    "mo2.group()\n"
   ]
  },
  {
   "cell_type": "markdown",
   "id": "087c6d06",
   "metadata": {},
   "source": [
    "You can also use the pipe to match one of several patterns as part of your regex. For example, say you wanted to match any of the strings `'Batman'`, `'Batmobile'`, `'Batcopter'`, and `'Batbat'`. Since all these strings start with `Bat`, it would be nice if you could specify that prefix only once."
   ]
  },
  {
   "cell_type": "code",
   "execution_count": 18,
   "id": "6001c01f",
   "metadata": {},
   "outputs": [],
   "source": [
    "batRegex = re.compile(r'Bat(man|mobile|copter|bat)')\n",
    "mo = batRegex.search('Batman lost a wheel')"
   ]
  },
  {
   "cell_type": "code",
   "execution_count": 19,
   "id": "57c99880",
   "metadata": {},
   "outputs": [
    {
     "data": {
      "text/plain": [
       "'Batman'"
      ]
     },
     "execution_count": 19,
     "metadata": {},
     "output_type": "execute_result"
    }
   ],
   "source": [
    "mo.group()"
   ]
  },
  {
   "cell_type": "code",
   "execution_count": 20,
   "id": "cc6aedcb",
   "metadata": {},
   "outputs": [
    {
     "data": {
      "text/plain": [
       "'man'"
      ]
     },
     "execution_count": 20,
     "metadata": {},
     "output_type": "execute_result"
    }
   ],
   "source": [
    "mo.group(1)"
   ]
  },
  {
   "cell_type": "markdown",
   "id": "bb3d2369",
   "metadata": {},
   "source": [
    "### Optional Matching with the Question Mark `?`\n",
    "\n",
    "Sometimes there is a pattern that you want to match only optionally. That is, the regex should find a match regardless of whether that bit of text is there. The `?` character flags the group that precedes it as an optional part of the pattern."
   ]
  },
  {
   "cell_type": "code",
   "execution_count": 21,
   "id": "cc976fdc",
   "metadata": {},
   "outputs": [
    {
     "data": {
      "text/plain": [
       "'Batman'"
      ]
     },
     "execution_count": 21,
     "metadata": {},
     "output_type": "execute_result"
    }
   ],
   "source": [
    "batRegex = re.compile(r'Bat(wo)?man')\n",
    "mo1 = batRegex.search('The Adventures of Batman')\n",
    "mo1.group()"
   ]
  },
  {
   "cell_type": "code",
   "execution_count": 24,
   "id": "c1947f7c",
   "metadata": {},
   "outputs": [
    {
     "data": {
      "text/plain": [
       "'Batman'"
      ]
     },
     "execution_count": 24,
     "metadata": {},
     "output_type": "execute_result"
    }
   ],
   "source": [
    "mo2 = batRegex.search('The Adventures of Batman and Batwoman')\n",
    "mo2.group()"
   ]
  },
  {
   "cell_type": "code",
   "execution_count": 37,
   "id": "83d50bf7",
   "metadata": {},
   "outputs": [
    {
     "name": "stdout",
     "output_type": "stream",
     "text": [
      "312-415-2222\n"
     ]
    }
   ],
   "source": [
    "phoneNumRegex = re.compile(r'(\\d{3}-)?\\d{3}-\\d{4}')\n",
    "mo1 = phoneNumRegex.search(\"My number is 312-415-2222\")\n",
    "\n",
    "print(mo1.group())"
   ]
  },
  {
   "cell_type": "code",
   "execution_count": 38,
   "id": "86dd84a9",
   "metadata": {},
   "outputs": [
    {
     "name": "stdout",
     "output_type": "stream",
     "text": [
      "415-2222\n"
     ]
    }
   ],
   "source": [
    "mo2 = phoneNumRegex.search(\"My number is 415-2222\")\n",
    "\n",
    "print(mo2.group())"
   ]
  },
  {
   "cell_type": "markdown",
   "id": "2e802aad",
   "metadata": {},
   "source": [
    "### Matching zero or more with a star(asterik) `*`\n",
    "\n",
    "The `*` (called the star or asterisk) means __“match zero or more”__ —the group that precedes the star can occur any number of times in the text."
   ]
  },
  {
   "cell_type": "code",
   "execution_count": 39,
   "id": "0fd35c33",
   "metadata": {},
   "outputs": [
    {
     "data": {
      "text/plain": [
       "'Batman'"
      ]
     },
     "execution_count": 39,
     "metadata": {},
     "output_type": "execute_result"
    }
   ],
   "source": [
    "batRegex = re.compile(r'Bat(wo)*man')\n",
    "mo1 = batRegex.search('The Adventures of Batman')\n",
    "mo1.group()"
   ]
  },
  {
   "cell_type": "code",
   "execution_count": 40,
   "id": "a7a3dcc7",
   "metadata": {},
   "outputs": [
    {
     "data": {
      "text/plain": [
       "'Batwoman'"
      ]
     },
     "execution_count": 40,
     "metadata": {},
     "output_type": "execute_result"
    }
   ],
   "source": [
    "mo2 = batRegex.search('The Adventures of Batwoman')\n",
    "mo2.group()"
   ]
  },
  {
   "cell_type": "code",
   "execution_count": 44,
   "id": "be1f426d",
   "metadata": {},
   "outputs": [
    {
     "data": {
      "text/plain": [
       "'Batwowowowoman'"
      ]
     },
     "execution_count": 44,
     "metadata": {},
     "output_type": "execute_result"
    }
   ],
   "source": [
    "mo3 = batRegex.search('The Adventures of Batwowowowoman')\n",
    "mo3.group()"
   ]
  },
  {
   "cell_type": "markdown",
   "id": "ae6550c2",
   "metadata": {},
   "source": [
    "### Matching one or more with the Plus `+`\n",
    "\n",
    "The `+` means it will __\"Match one or more\"__"
   ]
  },
  {
   "cell_type": "code",
   "execution_count": 45,
   "id": "47033f2f",
   "metadata": {},
   "outputs": [
    {
     "ename": "AttributeError",
     "evalue": "'NoneType' object has no attribute 'group'",
     "output_type": "error",
     "traceback": [
      "\u001b[0;31m---------------------------------------------------------------------------\u001b[0m",
      "\u001b[0;31mAttributeError\u001b[0m                            Traceback (most recent call last)",
      "Input \u001b[0;32mIn [45]\u001b[0m, in \u001b[0;36m<cell line: 3>\u001b[0;34m()\u001b[0m\n\u001b[1;32m      1\u001b[0m batRegex \u001b[38;5;241m=\u001b[39m re\u001b[38;5;241m.\u001b[39mcompile(\u001b[38;5;124mr\u001b[39m\u001b[38;5;124m'\u001b[39m\u001b[38;5;124mBat(wo)+man\u001b[39m\u001b[38;5;124m'\u001b[39m)\n\u001b[1;32m      2\u001b[0m mo1 \u001b[38;5;241m=\u001b[39m batRegex\u001b[38;5;241m.\u001b[39msearch(\u001b[38;5;124m'\u001b[39m\u001b[38;5;124mThe Adventures of Batman\u001b[39m\u001b[38;5;124m'\u001b[39m)\n\u001b[0;32m----> 3\u001b[0m \u001b[43mmo1\u001b[49m\u001b[38;5;241;43m.\u001b[39;49m\u001b[43mgroup\u001b[49m()\n",
      "\u001b[0;31mAttributeError\u001b[0m: 'NoneType' object has no attribute 'group'"
     ]
    }
   ],
   "source": [
    "batRegex = re.compile(r'Bat(wo)+man')\n",
    "mo1 = batRegex.search('The Adventures of Batman')\n",
    "mo1.group()"
   ]
  },
  {
   "cell_type": "code",
   "execution_count": 48,
   "id": "f7e2001f",
   "metadata": {},
   "outputs": [
    {
     "data": {
      "text/plain": [
       "'Batwowowowoman'"
      ]
     },
     "execution_count": 48,
     "metadata": {},
     "output_type": "execute_result"
    }
   ],
   "source": [
    "mo2 = batRegex.search('The Adventures of Batwowowowoman')\n",
    "mo2.group()"
   ]
  },
  {
   "cell_type": "markdown",
   "id": "7acb0fa1",
   "metadata": {},
   "source": [
    "### Matching Specific repetitions with Braces\n",
    "\n",
    "`(Ha){3}` - this will match the string `HaHaHa`\n",
    "\n",
    "`(Ha){3,5}` - will match `'HaHaHa'`, `'HaHaHaHa'`, and `'HaHaHaHaHa'`\n",
    "\n",
    "\n",
    "### The `findall()` method\n",
    "\n",
    "While `search()` will return a match object of the first _matched_ text in the searched string, the `findall()` will return the string for every match in the searched string."
   ]
  },
  {
   "cell_type": "code",
   "execution_count": 49,
   "id": "7494fee8",
   "metadata": {},
   "outputs": [
    {
     "data": {
      "text/plain": [
       "['415-555-9999', '212-555-0000']"
      ]
     },
     "execution_count": 49,
     "metadata": {},
     "output_type": "execute_result"
    }
   ],
   "source": [
    "phoneNumRegex = re.compile(r'\\d\\d\\d-\\d\\d\\d-\\d\\d\\d\\d') # has no groups\n",
    "\n",
    "phoneNumRegex.findall('Home: 415-555-9999 Work: 212-555-0000')"
   ]
  },
  {
   "cell_type": "markdown",
   "id": "1a73c023",
   "metadata": {},
   "source": [
    "### The Character class \n",
    "\n",
    "That is, `\\d` is shorthand for the regular expression (`0|1|2|3|4|5|6|7|8|9`)\n",
    "\n",
    "\n",
    "`\\d` - Any number between 0 and 9.\n",
    "\n",
    "`\\D` - Any character that is __not__ a number from 0 to 9\n",
    "\n",
    "`\\w` - Any letter, numbers or the underscore character. (Think of it as words)\n",
    "\n",
    "`\\W` - Any character that is __not__ a letter, number or the underscore character.\n",
    "\n",
    "`\\s` - Any space, tab, or newline character. (Think of it as space characters)\n",
    "\n",
    "`\\S` - Any character that is __not__ space, tab, or newline character."
   ]
  },
  {
   "cell_type": "code",
   "execution_count": 52,
   "id": "94acd7f2",
   "metadata": {},
   "outputs": [
    {
     "data": {
      "text/plain": [
       "['12 drummers',\n",
       " '11 pipers',\n",
       " '10 lords',\n",
       " '9 ladies',\n",
       " '8 maids',\n",
       " '7 swans',\n",
       " '6 geese',\n",
       " '5 rings',\n",
       " '4 birds',\n",
       " '3 hens',\n",
       " '2 doves',\n",
       " '1 partridge']"
      ]
     },
     "execution_count": 52,
     "metadata": {},
     "output_type": "execute_result"
    }
   ],
   "source": [
    "xmasRegex = re.compile(r'\\d+\\s\\w+')\n",
    "\n",
    "xmasRegex.findall('12 drummers, 11 pipers, 10 lords, 9 ladies, 8 maids, 7 swans, 6 geese, 5 rings, 4 birds, 3 hens, 2 doves, 1 partridge')"
   ]
  },
  {
   "cell_type": "markdown",
   "id": "c6c5645b",
   "metadata": {},
   "source": []
  },
  {
   "cell_type": "markdown",
   "id": "68e99fa9",
   "metadata": {},
   "source": [
    "# Project - Find Email ids\n",
    "\n",
    "This program will let you copy all the email id's from any webpage."
   ]
  },
  {
   "cell_type": "code",
   "execution_count": 5,
   "id": "9695a3d3",
   "metadata": {},
   "outputs": [
    {
     "name": "stdout",
     "output_type": "stream",
     "text": [
      "No email id found\n"
     ]
    }
   ],
   "source": [
    "import pyperclip, re\n",
    "# for example\n",
    "# donjoe93@gmail.com\n",
    "# donjoe@gov.co.in\n",
    "# ayesha_riyaz@hot-mail.com\n",
    "# joe@pm.me\n",
    "\n",
    "emailRegex = re.compile(r'''(\n",
    "            [a-zA-Z0-9._%+-]+\n",
    "            @\n",
    "            [a-zA-Z0-9.-]+\n",
    "            (\\.[a-zA-Z]{2,4}))''',re.VERBOSE)\n",
    "\n",
    "text = str(pyperclip.paste())\n",
    "\n",
    "matches = []\n",
    "\n",
    "for i in emailRegex.findall(text):\n",
    "    matches.append(i[0])\n",
    "    \n",
    "if len(matches) > 0:\n",
    "    pyperclip.copy('\\n'.join(matches))\n",
    "    print('Copied to Clipboard:')\n",
    "    print('\\n'.join(matches))\n",
    "else:\n",
    "    print(\"No email id found\")\n",
    "    "
   ]
  },
  {
   "cell_type": "code",
   "execution_count": null,
   "id": "fdd18d9b",
   "metadata": {},
   "outputs": [],
   "source": []
  }
 ],
 "metadata": {
  "kernelspec": {
   "display_name": "Python 3.10.9 64-bit",
   "language": "python",
   "name": "python3"
  },
  "language_info": {
   "codemirror_mode": {
    "name": "ipython",
    "version": 3
   },
   "file_extension": ".py",
   "mimetype": "text/x-python",
   "name": "python",
   "nbconvert_exporter": "python",
   "pygments_lexer": "ipython3",
   "version": "3.10.9"
  },
  "vscode": {
   "interpreter": {
    "hash": "aee8b7b246df8f9039afb4144a1f6fd8d2ca17a180786b69acc140d282b71a49"
   }
  }
 },
 "nbformat": 4,
 "nbformat_minor": 5
}
