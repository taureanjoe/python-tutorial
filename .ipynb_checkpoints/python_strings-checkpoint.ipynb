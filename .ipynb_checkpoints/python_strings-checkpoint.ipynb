{
 "cells": [
  {
   "cell_type": "code",
   "execution_count": 2,
   "metadata": {},
   "outputs": [],
   "source": [
    "# Python was created Guido Van Possum\n",
    "\n",
    "# Python is an open source language (anybody can modify it)\n",
    "\n",
    "# Programming languages in Data Science\n",
    "# R Programming (Data Visualization and statiscal testings)\n",
    "# Python Programming (Python is a complete package)\n",
    "# ------\n",
    "\n",
    "# Python community is very strong\n",
    "# Python is very easy to learn (simple syntax)"
   ]
  },
  {
   "cell_type": "code",
   "execution_count": 9,
   "metadata": {},
   "outputs": [],
   "source": [
    "# Python Programming - Syntax\n",
    "\n",
    "# Basic Python Operators\n",
    "\n",
    "# ** - power/exponent\n",
    "# %  - modulus/remainder\n",
    "# // - Floored Quotient\n",
    "\n",
    "# / Division \n",
    "# * Multiplcation\n",
    "# + Addition\n",
    "# - Subtraction"
   ]
  },
  {
   "cell_type": "code",
   "execution_count": 4,
   "metadata": {},
   "outputs": [
    {
     "name": "stdout",
     "output_type": "stream",
     "text": [
      "8\n",
      "4\n",
      "16\n"
     ]
    }
   ],
   "source": [
    "# power/exponent\n",
    "\n",
    "# 2 ^ 3 / 2 to the power of 3\n",
    "\n",
    "print(2 ** 3)\n",
    "print(2 ** 2)\n",
    "print(4 ** 2) "
   ]
  },
  {
   "cell_type": "code",
   "execution_count": 5,
   "metadata": {},
   "outputs": [
    {
     "name": "stdout",
     "output_type": "stream",
     "text": [
      "0\n",
      "3\n"
     ]
    }
   ],
   "source": [
    "# % symbol generates the remainder of a division\n",
    "print(56 % 2)\n",
    "print(23 % 4)"
   ]
  },
  {
   "cell_type": "code",
   "execution_count": 6,
   "metadata": {},
   "outputs": [
    {
     "data": {
      "text/plain": [
       "5"
      ]
     },
     "execution_count": 6,
     "metadata": {},
     "output_type": "execute_result"
    }
   ],
   "source": [
    "# Floor and ceiling\n",
    "# when writing decimals, we round the decimal places.\n",
    "# 5.75 -> 5 floored answer\n",
    "# 5.75 -> 6 ceiling\n",
    "\n",
    "\n",
    "23 // 4"
   ]
  },
  {
   "cell_type": "code",
   "execution_count": 10,
   "metadata": {},
   "outputs": [],
   "source": [
    "# common python data types\n",
    "\n",
    "# int - the whole numbers ..., -3, -2, -1, 0, 1, 2, 3, 4, ...\n",
    "# float -> decimal number -2.5, -1.5 ... 1.0, 1.5, 2.5\n",
    "# string -> Anything that is inside a quotaion \"\", it contains text, numbers and special characters"
   ]
  },
  {
   "cell_type": "code",
   "execution_count": 13,
   "metadata": {},
   "outputs": [
    {
     "name": "stdout",
     "output_type": "stream",
     "text": [
      "Ayesha\n"
     ]
    }
   ],
   "source": [
    "print(\"Ayesha\")"
   ]
  },
  {
   "cell_type": "code",
   "execution_count": 20,
   "metadata": {},
   "outputs": [
    {
     "name": "stdout",
     "output_type": "stream",
     "text": [
      "AyeshaStudent\n"
     ]
    }
   ],
   "source": [
    "print(\"Ayesha\" + \"Student\") # you can add two strings"
   ]
  },
  {
   "cell_type": "code",
   "execution_count": 21,
   "metadata": {},
   "outputs": [
    {
     "ename": "TypeError",
     "evalue": "can't multiply sequence by non-int of type 'str'",
     "output_type": "error",
     "traceback": [
      "\u001b[0;31m---------------------------------------------------------------------------\u001b[0m",
      "\u001b[0;31mTypeError\u001b[0m                                 Traceback (most recent call last)",
      "Input \u001b[0;32mIn [21]\u001b[0m, in \u001b[0;36m<cell line: 1>\u001b[0;34m()\u001b[0m\n\u001b[0;32m----> 1\u001b[0m \u001b[38;5;124;43m\"\u001b[39;49m\u001b[38;5;124;43mAyesha\u001b[39;49m\u001b[38;5;124;43m\"\u001b[39;49m\u001b[43m \u001b[49m\u001b[38;5;241;43m*\u001b[39;49m\u001b[43m \u001b[49m\u001b[38;5;124;43m\"\u001b[39;49m\u001b[38;5;124;43mStudent\u001b[39;49m\u001b[38;5;124;43m\"\u001b[39;49m\n",
      "\u001b[0;31mTypeError\u001b[0m: can't multiply sequence by non-int of type 'str'"
     ]
    }
   ],
   "source": [
    "\"Ayesha\" * \"Student\" # you cannot multiply two strings"
   ]
  },
  {
   "cell_type": "code",
   "execution_count": 23,
   "metadata": {},
   "outputs": [
    {
     "data": {
      "text/plain": [
       "'AyeshaAyeshaAyeshaAyeshaAyeshaAyeshaAyeshaAyeshaAyeshaAyeshaAyeshaAyeshaAyeshaAyeshaAyeshaAyeshaAyeshaAyeshaAyeshaAyeshaAyeshaAyeshaAyeshaAyeshaAyeshaAyeshaAyeshaAyeshaAyeshaAyeshaAyeshaAyeshaAyeshaAyeshaAyeshaAyeshaAyeshaAyeshaAyeshaAyeshaAyeshaAyeshaAyeshaAyeshaAyeshaAyeshaAyeshaAyeshaAyeshaAyeshaAyeshaAyeshaAyeshaAyeshaAyeshaAyeshaAyeshaAyeshaAyeshaAyeshaAyeshaAyeshaAyeshaAyeshaAyeshaAyeshaAyeshaAyeshaAyeshaAyeshaAyeshaAyeshaAyeshaAyeshaAyeshaAyeshaAyeshaAyeshaAyeshaAyeshaAyeshaAyeshaAyeshaAyeshaAyeshaAyeshaAyeshaAyeshaAyeshaAyeshaAyeshaAyeshaAyeshaAyeshaAyeshaAyeshaAyeshaAyeshaAyeshaAyesha'"
      ]
     },
     "execution_count": 23,
     "metadata": {},
     "output_type": "execute_result"
    }
   ],
   "source": [
    "\"Ayesha\" * 100"
   ]
  },
  {
   "cell_type": "code",
   "execution_count": 41,
   "metadata": {},
   "outputs": [],
   "source": [
    "digStudent = \"Ayesha\""
   ]
  },
  {
   "cell_type": "code",
   "execution_count": 42,
   "metadata": {},
   "outputs": [],
   "source": [
    "sampleVar = \"joe\""
   ]
  },
  {
   "cell_type": "code",
   "execution_count": 26,
   "metadata": {},
   "outputs": [
    {
     "name": "stdout",
     "output_type": "stream",
     "text": [
      "Ayesha\n"
     ]
    }
   ],
   "source": [
    "print(digStudent)"
   ]
  },
  {
   "cell_type": "code",
   "execution_count": 28,
   "metadata": {},
   "outputs": [
    {
     "ename": "SyntaxError",
     "evalue": "invalid syntax (1327811744.py, line 5)",
     "output_type": "error",
     "traceback": [
      "\u001b[0;36m  Input \u001b[0;32mIn [28]\u001b[0;36m\u001b[0m\n\u001b[0;31m    'hello'88.8/+5\u001b[0m\n\u001b[0m           ^\u001b[0m\n\u001b[0;31mSyntaxError\u001b[0m\u001b[0;31m:\u001b[0m invalid syntax\n"
     ]
    }
   ],
   "source": [
    "# Question Time\n",
    "\n",
    "# 1. Which of the following are operators and which are values?\n",
    "\n",
    "'hello'88.8/+5 \n",
    "\n",
    "# hello is a string (value), 88.8 is a float, 5 is an int\n",
    "\n",
    "# /+ operator\n",
    "\n"
   ]
  },
  {
   "cell_type": "code",
   "execution_count": 32,
   "metadata": {},
   "outputs": [],
   "source": [
    "# Name three data types in python\n",
    "\n",
    "# integer, float & string"
   ]
  },
  {
   "cell_type": "code",
   "execution_count": 39,
   "metadata": {},
   "outputs": [
    {
     "data": {
      "text/plain": [
       "'spamspamspamspamspamspamspamspamspamspam'"
      ]
     },
     "execution_count": 39,
     "metadata": {},
     "output_type": "execute_result"
    }
   ],
   "source": [
    "# What should the following two expression evaluate to?\n",
    "\n",
    "'spam' + 'spam''spamspam' * 3"
   ]
  },
  {
   "cell_type": "code",
   "execution_count": null,
   "metadata": {},
   "outputs": [],
   "source": [
    "# other python operators\n",
    "\n",
    "# Comparison Operators\n",
    "\n",
    "# = is a assignment operator\n",
    "# == is a comparison operator\n",
    "\n",
    "# == : Equal to "
   ]
  },
  {
   "cell_type": "code",
   "execution_count": 45,
   "metadata": {},
   "outputs": [
    {
     "name": "stdout",
     "output_type": "stream",
     "text": [
      "Ayesha\n",
      "joe\n"
     ]
    },
    {
     "data": {
      "text/plain": [
       "False"
      ]
     },
     "execution_count": 45,
     "metadata": {},
     "output_type": "execute_result"
    }
   ],
   "source": [
    "print(digStudent)\n",
    "print(sampleVar)\n",
    "\n",
    "digStudent == sampleVar"
   ]
  },
  {
   "cell_type": "code",
   "execution_count": 49,
   "metadata": {},
   "outputs": [
    {
     "data": {
      "text/plain": [
       "True"
      ]
     },
     "execution_count": 49,
     "metadata": {},
     "output_type": "execute_result"
    }
   ],
   "source": [
    "\n",
    "digStudent == 'Ayesha'"
   ]
  },
  {
   "cell_type": "code",
   "execution_count": 54,
   "metadata": {},
   "outputs": [
    {
     "name": "stdout",
     "output_type": "stream",
     "text": [
      "90\n",
      "97\n"
     ]
    }
   ],
   "source": [
    "print(ord('Z'))\n",
    "print(ord('a'))"
   ]
  },
  {
   "cell_type": "code",
   "execution_count": 55,
   "metadata": {},
   "outputs": [],
   "source": [
    "# Boolean Operators\n",
    "# True, False\n",
    "\n",
    "\n",
    "# Logical Operators\n",
    "\n",
    "# and, or, not\n",
    "\n"
   ]
  },
  {
   "cell_type": "code",
   "execution_count": 56,
   "metadata": {},
   "outputs": [],
   "source": [
    "# for loop, while loop, if conditions"
   ]
  },
  {
   "cell_type": "code",
   "execution_count": 63,
   "metadata": {},
   "outputs": [],
   "source": [
    "name = 'Joe'"
   ]
  },
  {
   "cell_type": "code",
   "execution_count": 64,
   "metadata": {},
   "outputs": [
    {
     "name": "stdout",
     "output_type": "stream",
     "text": [
      "Hello, Stranger!\n"
     ]
    }
   ],
   "source": [
    "if name == 'Ayesha':\n",
    "    print('Hello, Ayesha.')\n",
    "    \n",
    "else:\n",
    "    print('Hello, Stranger!')"
   ]
  },
  {
   "cell_type": "code",
   "execution_count": 67,
   "metadata": {},
   "outputs": [],
   "source": [
    "name = 'Alice'\n",
    "age = 25\n",
    "\n",
    "if name == 'Joe':\n",
    "    print('Hello, Joe')\n",
    "    \n",
    "elif age > 30:\n",
    "    print(\"You are not Joe, kiddo.\")\n",
    "    \n"
   ]
  },
  {
   "cell_type": "code",
   "execution_count": null,
   "metadata": {},
   "outputs": [],
   "source": []
  }
 ],
 "metadata": {
  "kernelspec": {
   "display_name": "Python 3 (ipykernel)",
   "language": "python",
   "name": "python3"
  },
  "language_info": {
   "codemirror_mode": {
    "name": "ipython",
    "version": 3
   },
   "file_extension": ".py",
   "mimetype": "text/x-python",
   "name": "python",
   "nbconvert_exporter": "python",
   "pygments_lexer": "ipython3",
   "version": "3.10.6"
  },
  "vscode": {
   "interpreter": {
    "hash": "aee8b7b246df8f9039afb4144a1f6fd8d2ca17a180786b69acc140d282b71a49"
   }
  }
 },
 "nbformat": 4,
 "nbformat_minor": 2
}
