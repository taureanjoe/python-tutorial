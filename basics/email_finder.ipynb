{
 "cells": [
  {
   "cell_type": "markdown",
   "id": "c08303fd",
   "metadata": {},
   "source": [
    "# Email Finder\n",
    "\n",
    "This program let's you extract all the email id's present in a document or a webpage."
   ]
  },
  {
   "cell_type": "code",
   "execution_count": 1,
   "id": "982cc5aa",
   "metadata": {},
   "outputs": [
    {
     "name": "stdout",
     "output_type": "stream",
     "text": [
      "Copied to Clipboard:\n",
      "donjoe93@gmail.com\n",
      "donjoe@gov.co.in\n",
      "ayesha_riyaz@hot-mail.com\n",
      "joe@pm.me\n"
     ]
    }
   ],
   "source": [
    "import pyperclip, re\n",
    "\n",
    "emailRegex = re.compile(r'''(\n",
    "            [a-zA-Z0-9._%+-]+\n",
    "            @\n",
    "            [a-zA-Z0-9.-]+\n",
    "            (\\.[a-zA-Z]{2,4}))''',re.VERBOSE)\n",
    "\n",
    "text = str(pyperclip.paste())\n",
    "\n",
    "matches = []\n",
    "\n",
    "for i in emailRegex.findall(text):\n",
    "    matches.append(i[0])\n",
    "    \n",
    "if len(matches) > 0:\n",
    "    pyperclip.copy('\\n'.join(matches))\n",
    "    print('Copied to Clipboard:')\n",
    "    print('\\n'.join(matches))\n",
    "else:\n",
    "    print(\"No email id found\")"
   ]
  },
  {
   "cell_type": "code",
   "execution_count": null,
   "id": "93fc8572",
   "metadata": {},
   "outputs": [],
   "source": []
  }
 ],
 "metadata": {
  "kernelspec": {
   "display_name": "Python 3 (ipykernel)",
   "language": "python",
   "name": "python3"
  },
  "language_info": {
   "codemirror_mode": {
    "name": "ipython",
    "version": 3
   },
   "file_extension": ".py",
   "mimetype": "text/x-python",
   "name": "python",
   "nbconvert_exporter": "python",
   "pygments_lexer": "ipython3",
   "version": "3.10.6"
  }
 },
 "nbformat": 4,
 "nbformat_minor": 5
}
