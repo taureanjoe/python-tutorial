{
 "cells": [
  {
   "cell_type": "markdown",
   "id": "96f509bd",
   "metadata": {},
   "source": [
    "### Comparison Operators\n",
    "\n",
    "`==` - Equal to\n",
    "\n",
    "`!=` - Not equal to\n",
    "\n",
    "`<` - Less than\n",
    "\n",
    "`>` - Greater than\n",
    "\n",
    "`<=` - Less than equal to\n",
    "\n",
    "`>=` - Greater than equal to\n",
    "\n",
    "These operators evaluate to `True` or `False` depending on the values you give them.\n",
    "\n",
    "Let's try some operators\n"
   ]
  },
  {
   "cell_type": "code",
   "execution_count": null,
   "id": "2f11933f",
   "metadata": {},
   "outputs": [],
   "source": [
    "## "
   ]
  }
 ],
 "metadata": {
  "kernelspec": {
   "display_name": "Python 3 (ipykernel)",
   "language": "python",
   "name": "python3"
  },
  "language_info": {
   "codemirror_mode": {
    "name": "ipython",
    "version": 3
   },
   "file_extension": ".py",
   "mimetype": "text/x-python",
   "name": "python",
   "nbconvert_exporter": "python",
   "pygments_lexer": "ipython3",
   "version": "3.10.6"
  }
 },
 "nbformat": 4,
 "nbformat_minor": 5
}
