{
 "cells": [
  {
   "cell_type": "markdown",
   "id": "cc781543",
   "metadata": {},
   "source": [
    "### Comparison Operators\n",
    "\n",
    "`==` - Equal to\n",
    "\n",
    "`!=` - Not equal to\n",
    "\n",
    "`<` - Less than\n",
    "\n",
    "`>` - Greater than\n",
    "\n",
    "`<=` - Less than equal to\n",
    "\n",
    "`>=` - Greater than equal to\n",
    "\n",
    "These operators evaluate to `True` or `False` depending on the values you give them.\n",
    "\n",
    "Let's try some operators\n"
   ]
  },
  {
   "cell_type": "code",
   "execution_count": 1,
   "id": "18713181",
   "metadata": {},
   "outputs": [
    {
     "data": {
      "text/plain": [
       "True"
      ]
     },
     "execution_count": 1,
     "metadata": {},
     "output_type": "execute_result"
    }
   ],
   "source": [
    "42 == 42"
   ]
  },
  {
   "cell_type": "code",
   "execution_count": 2,
   "id": "330e40c8",
   "metadata": {},
   "outputs": [
    {
     "data": {
      "text/plain": [
       "False"
      ]
     },
     "execution_count": 2,
     "metadata": {},
     "output_type": "execute_result"
    }
   ],
   "source": [
    "42 == 99"
   ]
  },
  {
   "cell_type": "code",
   "execution_count": 3,
   "id": "6756d524",
   "metadata": {},
   "outputs": [
    {
     "data": {
      "text/plain": [
       "True"
      ]
     },
     "execution_count": 3,
     "metadata": {},
     "output_type": "execute_result"
    }
   ],
   "source": [
    "2 != 3"
   ]
  },
  {
   "cell_type": "code",
   "execution_count": 4,
   "id": "9f58b41f",
   "metadata": {},
   "outputs": [
    {
     "data": {
      "text/plain": [
       "False"
      ]
     },
     "execution_count": 4,
     "metadata": {},
     "output_type": "execute_result"
    }
   ],
   "source": [
    "2 != 2"
   ]
  },
  {
   "cell_type": "code",
   "execution_count": 5,
   "id": "5731b5c2",
   "metadata": {},
   "outputs": [
    {
     "data": {
      "text/plain": [
       "True"
      ]
     },
     "execution_count": 5,
     "metadata": {},
     "output_type": "execute_result"
    }
   ],
   "source": [
    "'hello' == 'hello'"
   ]
  },
  {
   "cell_type": "code",
   "execution_count": 6,
   "id": "0cdf9d41",
   "metadata": {},
   "outputs": [
    {
     "data": {
      "text/plain": [
       "False"
      ]
     },
     "execution_count": 6,
     "metadata": {},
     "output_type": "execute_result"
    }
   ],
   "source": [
    "'hello' == 'HELLO'"
   ]
  },
  {
   "cell_type": "code",
   "execution_count": 7,
   "id": "ffa72692",
   "metadata": {},
   "outputs": [
    {
     "data": {
      "text/plain": [
       "True"
      ]
     },
     "execution_count": 7,
     "metadata": {},
     "output_type": "execute_result"
    }
   ],
   "source": [
    "'dog' != 'cat'"
   ]
  },
  {
   "cell_type": "code",
   "execution_count": 8,
   "id": "b622af49",
   "metadata": {},
   "outputs": [
    {
     "data": {
      "text/plain": [
       "True"
      ]
     },
     "execution_count": 8,
     "metadata": {},
     "output_type": "execute_result"
    }
   ],
   "source": [
    "42 == 42.0"
   ]
  },
  {
   "cell_type": "code",
   "execution_count": 9,
   "id": "96d014e3",
   "metadata": {},
   "outputs": [
    {
     "data": {
      "text/plain": [
       "False"
      ]
     },
     "execution_count": 9,
     "metadata": {},
     "output_type": "execute_result"
    }
   ],
   "source": [
    "42 == '42'"
   ]
  },
  {
   "cell_type": "markdown",
   "id": "31aeda34",
   "metadata": {},
   "source": [
    "### Boolean Operators or Logical Operators\n",
    "\n",
    "The three boolean operators  (`and`, `or`, `not` ) are used to compare boolean values. Like comparison operators, they evaluate their expression to boolean values.\n",
    "\n",
    "\n",
    "#### Binary Boolean Operators \n",
    "The `and`, `or` operators always take two boolean values, so they are considered as binary boolean operators."
   ]
  },
  {
   "cell_type": "code",
   "execution_count": 10,
   "id": "2a5d9214",
   "metadata": {},
   "outputs": [
    {
     "data": {
      "text/plain": [
       "False"
      ]
     },
     "execution_count": 10,
     "metadata": {},
     "output_type": "execute_result"
    }
   ],
   "source": [
    "True and False"
   ]
  },
  {
   "cell_type": "code",
   "execution_count": 11,
   "id": "b719ceef",
   "metadata": {},
   "outputs": [
    {
     "data": {
      "text/plain": [
       "True"
      ]
     },
     "execution_count": 11,
     "metadata": {},
     "output_type": "execute_result"
    }
   ],
   "source": [
    "True and True "
   ]
  },
  {
   "cell_type": "markdown",
   "id": "6d2c1c60",
   "metadata": {},
   "source": [
    "### Truth Table\n",
    "### And\n",
    "|Expression| Evaluates to|\n",
    "|:-----|:-----|\n",
    "|True `and` True| True |\n",
    "|True `and` False| False|\n",
    "|False `and` True| False|\n",
    "|False `and` False | False|\n",
    "\n",
    "### Or\n",
    "|Expression| Evaluates to|\n",
    "|:-----|:-----|\n",
    "|True `or` True| True |\n",
    "|True `or` False| True|\n",
    "|False `or` True| True|\n",
    "|False `or` False | False|\n",
    "\n",
    "\n",
    "### Not Operator"
   ]
  },
  {
   "cell_type": "code",
   "execution_count": 12,
   "id": "536d3bed",
   "metadata": {},
   "outputs": [
    {
     "data": {
      "text/plain": [
       "False"
      ]
     },
     "execution_count": 12,
     "metadata": {},
     "output_type": "execute_result"
    }
   ],
   "source": [
    "not True"
   ]
  },
  {
   "cell_type": "code",
   "execution_count": 13,
   "id": "d4f0af88",
   "metadata": {},
   "outputs": [
    {
     "data": {
      "text/plain": [
       "True"
      ]
     },
     "execution_count": 13,
     "metadata": {},
     "output_type": "execute_result"
    }
   ],
   "source": [
    "not False"
   ]
  },
  {
   "cell_type": "markdown",
   "id": "d1d22660",
   "metadata": {},
   "source": [
    "### Mixing Boolean and Comparison Operators\n",
    "\n"
   ]
  },
  {
   "cell_type": "code",
   "execution_count": 14,
   "id": "3e5a93c6",
   "metadata": {},
   "outputs": [
    {
     "data": {
      "text/plain": [
       "False"
      ]
     },
     "execution_count": 14,
     "metadata": {},
     "output_type": "execute_result"
    }
   ],
   "source": [
    "(4 > 5) and (5 > 6)"
   ]
  },
  {
   "cell_type": "code",
   "execution_count": 16,
   "id": "2af543ec",
   "metadata": {},
   "outputs": [
    {
     "data": {
      "text/plain": [
       "True"
      ]
     },
     "execution_count": 16,
     "metadata": {},
     "output_type": "execute_result"
    }
   ],
   "source": [
    "(4 < 5) and (5 < 6)"
   ]
  },
  {
   "cell_type": "markdown",
   "id": "45538bbe",
   "metadata": {},
   "source": [
    "## While Loop\n",
    "\n",
    "The while loops consists of:\n",
    "\n",
    "* The `while` keyword\n",
    "* A condition (an expression that evaluates to `True` or `False`)\n",
    "* A colon\n",
    "* Starting the next line, an indented block of code\n"
   ]
  },
  {
   "cell_type": "code",
   "execution_count": 21,
   "id": "56b89c5a",
   "metadata": {},
   "outputs": [
    {
     "name": "stdout",
     "output_type": "stream",
     "text": [
      "Hello, world!\n"
     ]
    }
   ],
   "source": [
    "spam = 0\n",
    "if spam < 5:\n",
    "    print('Hello, world!')\n",
    "    spam = spam + 1"
   ]
  },
  {
   "cell_type": "code",
   "execution_count": 24,
   "id": "ca28bd86",
   "metadata": {},
   "outputs": [
    {
     "name": "stdout",
     "output_type": "stream",
     "text": [
      "Hello, world!\n",
      "Hello, world!\n",
      "Hello, world!\n"
     ]
    }
   ],
   "source": [
    "spam = 0\n",
    "while spam < 5:\n",
    "    print('Hello, world!')\n",
    "    spam = spam + 2"
   ]
  },
  {
   "cell_type": "markdown",
   "id": "1440ea78",
   "metadata": {},
   "source": [
    "### An annoying while loop\n"
   ]
  },
  {
   "cell_type": "code",
   "execution_count": 26,
   "id": "5fd46c6e",
   "metadata": {},
   "outputs": [
    {
     "name": "stdout",
     "output_type": "stream",
     "text": [
      "Please type your name.\n",
      "Joe\n",
      "Please type your name.\n",
      "joe\n",
      "Please type your name.\n",
      "ayesha\n",
      "Please type your name.\n",
      "varsha\n",
      "Please type your name.\n",
      "your name\n",
      "Thank you!\n"
     ]
    }
   ],
   "source": [
    "name = ''\n",
    "while name != 'your name':\n",
    "    print('Please type your name.')\n",
    "    name = input()\n",
    "    \n",
    "print(\"Thank you!\")"
   ]
  },
  {
   "cell_type": "markdown",
   "id": "500cb101",
   "metadata": {},
   "source": [
    "### break Statements\n",
    "\n",
    "There is a shortcut to getting out of a while loop. If the execution reaches the break statements, it will exit the loop immediately."
   ]
  },
  {
   "cell_type": "code",
   "execution_count": 27,
   "id": "03f0efe8",
   "metadata": {},
   "outputs": [
    {
     "name": "stdout",
     "output_type": "stream",
     "text": [
      "Please type your name.\n",
      "joe\n",
      "Please type your name.\n",
      "joe\n",
      "Please type your name.\n",
      "joe\n",
      "Please type your name.\n",
      "&^%$^&*\n",
      "Please type your name.\n",
      "your name\n",
      "Thank you!\n"
     ]
    }
   ],
   "source": [
    "while True:\n",
    "    print(\"Please type your name.\")\n",
    "    \n",
    "    name = input()\n",
    "    if name == 'your name':\n",
    "        break\n",
    "print('Thank you!')\n",
    "    "
   ]
  },
  {
   "cell_type": "markdown",
   "id": "a171106b",
   "metadata": {},
   "source": [
    "### continue statements\n",
    "\n",
    "Like `break` statements `continue` statements are also written inside the loops. When the execution reaches the continue statement, the program execution jumps straight to the beginning of the loop and starts evaluating the condition from start.\n"
   ]
  },
  {
   "cell_type": "code",
   "execution_count": 28,
   "id": "66509697",
   "metadata": {},
   "outputs": [
    {
     "name": "stdout",
     "output_type": "stream",
     "text": [
      "Who are you?\n",
      "Ayesha\n",
      "Who are you?\n",
      "Akansha\n",
      "Who are you?\n",
      "Joe\n",
      "Hello Joe, what is the password? (It is a fish.)\n",
      "cuttlefish\n",
      "Access Granted!\n"
     ]
    }
   ],
   "source": [
    "while True:\n",
    "    print(\"Who are you?\")\n",
    "    name = input()\n",
    "    if name != 'Joe':\n",
    "        continue\n",
    "# if the user enter any name besides Joe\n",
    "# the program jumps back and re-evaluates the condition\n",
    "    \n",
    "    print(\"Hello Joe, what is the password? (It is a fish.)\")\n",
    "    password = input()\n",
    "    if password == 'cuttlefish':\n",
    "        break\n",
    "print(\"Access Granted!\")\n",
    "    \n",
    "    "
   ]
  },
  {
   "cell_type": "code",
   "execution_count": null,
   "id": "07e58493",
   "metadata": {},
   "outputs": [],
   "source": []
  }
 ],
 "metadata": {
  "kernelspec": {
   "display_name": "Python 3 (ipykernel)",
   "language": "python",
   "name": "python3"
  },
  "language_info": {
   "codemirror_mode": {
    "name": "ipython",
    "version": 3
   },
   "file_extension": ".py",
   "mimetype": "text/x-python",
   "name": "python",
   "nbconvert_exporter": "python",
   "pygments_lexer": "ipython3",
   "version": "3.10.6"
  }
 },
 "nbformat": 4,
 "nbformat_minor": 5
}
