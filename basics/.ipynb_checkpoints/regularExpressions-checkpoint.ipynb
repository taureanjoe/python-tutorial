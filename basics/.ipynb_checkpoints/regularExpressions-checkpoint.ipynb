{
 "cells": [
  {
   "cell_type": "markdown",
   "id": "c2dec56e",
   "metadata": {},
   "source": [
    "# Regular Expressions\n",
    "\n",
    "Regular expressions, or \"regex\" for short, are a powerful tool for matching patterns in text. In Python, the `re` module provides support for regular expressions. With this module, you can search for patterns in strings, replace parts of strings that match a pattern, and split strings based on a pattern.\n",
    "\n",
    "The basic building blocks of regular expressions are characters and metacharacters. Characters match themselves, while metacharacters are used to match groups of characters or to specify the structure of the pattern. Some examples of metacharacters are `.` (matches any character), `*` (matches zero or more occurrences of the preceding character), `+` (matches one or more occurrences of the preceding character), `?` (matches zero or one occurrence of the preceding character)."
   ]
  },
  {
   "cell_type": "code",
   "execution_count": 1,
   "id": "66a499a7",
   "metadata": {},
   "outputs": [
    {
     "name": "stdout",
     "output_type": "stream",
     "text": [
      "fox\n"
     ]
    }
   ],
   "source": [
    "import re # importing re module to perform regular expressions\n",
    "\n",
    "text = \"The quick brown fox jumps over the lazy dog.\"\n",
    "match = re.search(r\"fox\", text)\n",
    "print(match.group())"
   ]
  },
  {
   "cell_type": "code",
   "execution_count": 2,
   "id": "d2cbb033",
   "metadata": {},
   "outputs": [
    {
     "name": "stdout",
     "output_type": "stream",
     "text": [
      "D:\u0001.dataScience\u0001.Python\n",
      "D:\u0001.dataScience\u0001.Python\n",
      "ewfolder\n",
      "D:\\01.dataScience\\01.Python\\newfolder\n"
     ]
    }
   ],
   "source": [
    "# raw strings in python\n",
    "\n",
    "firstPath = \"D:\\01.dataScience\\01.Python\"\n",
    "\n",
    "secondPath = \"D:\\01.dataScience\\01.Python\\newfolder\" # in strings \"\\n\" would be considered as a newline\n",
    "\n",
    "secondPathModified = r\"D:\\01.dataScience\\01.Python\\newfolder\"\n",
    "\n",
    "\n",
    "\n",
    "print(firstPath)\n",
    "print(secondPath) # n is not displayed because python thinks it is calling for new line\n",
    "print(secondPathModified)"
   ]
  },
  {
   "cell_type": "markdown",
   "id": "57926c1b",
   "metadata": {},
   "source": [
    "### Matching patterns with regex\n",
    "\n",
    "To match a US format phone number like 415-555-4757.\n",
    "\n",
    "In regex, `\\d` stands for digit characters. i.e. any number ranging from 0 - 9.\n",
    "\n",
    "The above pattern can be matched by writing `\\d\\d\\d-\\d\\d\\d-\\d\\d\\d\\d`\n",
    "\n",
    "But regular expressions can be more sophisticated. For example, adding a 3 in braces (`{3}`) after a certain pattern will say that the pattern should be repeated *three times*.\n",
    "\n",
    "Read: https://docs.python.org/3/library/re.html?highlight=re#module-re"
   ]
  },
  {
   "cell_type": "code",
   "execution_count": 12,
   "id": "d00270dc",
   "metadata": {},
   "outputs": [],
   "source": [
    "phoneNumRegex = re.compile(r'(\\d{3})-(\\d{3}-\\d{4})') # saving the pattern using compile"
   ]
  },
  {
   "cell_type": "code",
   "execution_count": 17,
   "id": "2c5190ad",
   "metadata": {},
   "outputs": [
    {
     "name": "stdout",
     "output_type": "stream",
     "text": [
      "312\n"
     ]
    }
   ],
   "source": [
    "mo = phoneNumRegex.search(\"My number is 312-415-2222\")\n",
    "\n",
    "print(mo.group(1))\n"
   ]
  },
  {
   "cell_type": "markdown",
   "id": "4122f88d",
   "metadata": {},
   "source": [
    "mo.groups() returns a tuple of multiple values. We can use `(` and `)` to separate the characters as each groups in the `mo.groups` output.\n",
    "\n",
    "\n",
    "### Special Characters in Regular Expressions\n",
    "\n",
    "`.  ^  $  *  +  ?  {  }  [  ]  \\  |  (  )`\n",
    "\n",
    "\n",
    "If you want to detect any of these characters, you can use a blackslash inorder to display them in your text pattern.\n",
    "\n",
    "\n",
    "# Matching Multiple groups with pipe symbol"
   ]
  },
  {
   "cell_type": "code",
   "execution_count": 27,
   "id": "cf67a336",
   "metadata": {},
   "outputs": [
    {
     "name": "stdout",
     "output_type": "stream",
     "text": [
      "Frog\n"
     ]
    }
   ],
   "source": [
    "heroRegex = re.compile(r'Frog|Batman') # saving the pattern using compile\n",
    "\n",
    "mo = heroRegex.search(\"Cat and Frog\")\n",
    "\n",
    "print(mo.group())"
   ]
  },
  {
   "cell_type": "code",
   "execution_count": null,
   "id": "a34d4c2c",
   "metadata": {},
   "outputs": [],
   "source": []
  }
 ],
 "metadata": {
  "kernelspec": {
   "display_name": "Python 3 (ipykernel)",
   "language": "python",
   "name": "python3"
  },
  "language_info": {
   "codemirror_mode": {
    "name": "ipython",
    "version": 3
   },
   "file_extension": ".py",
   "mimetype": "text/x-python",
   "name": "python",
   "nbconvert_exporter": "python",
   "pygments_lexer": "ipython3",
   "version": "3.10.6"
  }
 },
 "nbformat": 4,
 "nbformat_minor": 5
}
