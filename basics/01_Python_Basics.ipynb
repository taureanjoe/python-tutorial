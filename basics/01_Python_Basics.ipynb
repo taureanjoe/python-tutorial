{
  "nbformat": 4,
  "nbformat_minor": 0,
  "metadata": {
    "colab": {
      "provenance": []
    },
    "kernelspec": {
      "name": "python3",
      "display_name": "Python 3"
    },
    "language_info": {
      "name": "python"
    }
  },
  "cells": [
    {
      "cell_type": "markdown",
      "source": [
        "# Basics of Python\n",
        "\n",
        "## Print Function"
      ],
      "metadata": {
        "id": "pxUtzCrqNu8F"
      }
    },
    {
      "cell_type": "code",
      "execution_count": 1,
      "metadata": {
        "colab": {
          "base_uri": "https://localhost:8080/"
        },
        "id": "DozW3hqiNovh",
        "outputId": "d91763e8-8216-478a-f2c8-022b898dc43a"
      },
      "outputs": [
        {
          "output_type": "stream",
          "name": "stdout",
          "text": [
            "Hello World\n"
          ]
        }
      ],
      "source": [
        "print(\"Hello World\")"
      ]
    },
    {
      "cell_type": "markdown",
      "source": [
        "You can use `\\n` to print new line.\n",
        "\n",
        "`\\n` is called as *new line character*.\n",
        "\n",
        "It will bring the cursor to the next line, just like when we press Enter in notepad.\n"
      ],
      "metadata": {
        "id": "9JiepmmgOHL4"
      }
    },
    {
      "cell_type": "code",
      "source": [
        "print(\"Hello\")\n",
        "print(\"World\")"
      ],
      "metadata": {
        "colab": {
          "base_uri": "https://localhost:8080/"
        },
        "id": "81JDR4TFN8kz",
        "outputId": "837faa00-0146-42f2-e608-fe231840b8d9"
      },
      "execution_count": 3,
      "outputs": [
        {
          "output_type": "stream",
          "name": "stdout",
          "text": [
            "Hello\n",
            "World\n"
          ]
        }
      ]
    },
    {
      "cell_type": "code",
      "source": [
        "# \\n - new line character\n",
        "\n",
        "print(\"Hello\\nWorld\")"
      ],
      "metadata": {
        "colab": {
          "base_uri": "https://localhost:8080/"
        },
        "id": "vg2BPKYyOGSX",
        "outputId": "31669a07-6cfc-49f4-f088-d58b7c4bc968"
      },
      "execution_count": 4,
      "outputs": [
        {
          "output_type": "stream",
          "name": "stdout",
          "text": [
            "Hello\n",
            "World\n"
          ]
        }
      ]
    },
    {
      "cell_type": "markdown",
      "source": [
        "### Horizontal Tab\n",
        "\n",
        "It will provide a space of 8 character.\n",
        "\n",
        "You can use `\\t` to add a tab spacing in your string. "
      ],
      "metadata": {
        "id": "QzXCm9DqOkgY"
      }
    },
    {
      "cell_type": "code",
      "source": [
        "\n",
        "# \\t - horizontal tab\n",
        "\n",
        "print(\"Hello\\tWorld\")\n"
      ],
      "metadata": {
        "colab": {
          "base_uri": "https://localhost:8080/"
        },
        "id": "aZo413jvOpTV",
        "outputId": "5295351c-52d9-48e6-bd7c-70173a71a954"
      },
      "execution_count": 5,
      "outputs": [
        {
          "output_type": "stream",
          "name": "stdout",
          "text": [
            "Hello\tWorld\n"
          ]
        }
      ]
    },
    {
      "cell_type": "markdown",
      "source": [
        "## Variables\n",
        "\n",
        "Variables are same as the variables that were used in mathematics. Remember we used to find X? (Not your EX Chill!!)\n",
        "\n",
        "\n",
        "In Python variables are used to store values. "
      ],
      "metadata": {
        "id": "ac_LNPvHRH-p"
      }
    },
    {
      "cell_type": "code",
      "source": [
        "number = 2\n",
        "\n",
        "print(number)"
      ],
      "metadata": {
        "colab": {
          "base_uri": "https://localhost:8080/"
        },
        "id": "rQWDWGbzdB6I",
        "outputId": "5d5b48f2-d135-4b31-c57e-45fb5515940a"
      },
      "execution_count": 14,
      "outputs": [
        {
          "output_type": "stream",
          "name": "stdout",
          "text": [
            "2\n"
          ]
        }
      ]
    },
    {
      "cell_type": "code",
      "source": [
        "a = 10 \n",
        "print(a)"
      ],
      "metadata": {
        "colab": {
          "base_uri": "https://localhost:8080/"
        },
        "id": "lo7yWEsSO37J",
        "outputId": "8f4215a3-533f-476e-907c-312566ee926a"
      },
      "execution_count": 6,
      "outputs": [
        {
          "output_type": "stream",
          "name": "stdout",
          "text": [
            "10\n"
          ]
        }
      ]
    },
    {
      "cell_type": "code",
      "source": [],
      "metadata": {
        "id": "Uszbf3xvRRh3"
      },
      "execution_count": null,
      "outputs": []
    },
    {
      "cell_type": "markdown",
      "source": [
        "This means `a` is a variables that holds a value `10`\n",
        "\n",
        "Just like that, simple.\n",
        "\n",
        "### Assigning multiple values to variables at once."
      ],
      "metadata": {
        "id": "8M-N-vNiRStL"
      }
    },
    {
      "cell_type": "code",
      "source": [
        "x, y, z = 10, 20, 30\n",
        "\n",
        "# let's print each values separately\n",
        "print(x)\n",
        "print(y)\n",
        "print(z)\n",
        "\n",
        "# let's try adding all these values\n",
        "print(x + y + z)"
      ],
      "metadata": {
        "colab": {
          "base_uri": "https://localhost:8080/"
        },
        "id": "GHv70UuncvHR",
        "outputId": "373f9ea1-cb8f-4873-a4f3-c22ba2dba906"
      },
      "execution_count": 13,
      "outputs": [
        {
          "output_type": "stream",
          "name": "stdout",
          "text": [
            "10\n",
            "20\n",
            "30\n",
            "60\n"
          ]
        }
      ]
    },
    {
      "cell_type": "code",
      "source": [
        "a = 10.5 \n",
        "print(a)"
      ],
      "metadata": {
        "id": "Z_oI56oYTCuv"
      },
      "execution_count": null,
      "outputs": []
    },
    {
      "cell_type": "markdown",
      "source": [
        "This means a is a variables that holds a value 10.5\n",
        "\n",
        "\n",
        "You can also see that now the value of a has been updated to 10.5. A variable gets updated if a new line with the same variable name is defined, overwriting the previous value of the variable. This is called variable reassignment or variable update."
      ],
      "metadata": {
        "id": "ugDkzH8HTLHg"
      }
    },
    {
      "cell_type": "code",
      "source": [
        "b = \"Sun\"\n",
        "print(a)"
      ],
      "metadata": {
        "colab": {
          "base_uri": "https://localhost:8080/"
        },
        "id": "4s_skGjEUka2",
        "outputId": "02dad035-387a-4449-937f-37afae3e37ac"
      },
      "execution_count": 11,
      "outputs": [
        {
          "output_type": "stream",
          "name": "stdout",
          "text": [
            "10.5\n"
          ]
        }
      ]
    },
    {
      "cell_type": "markdown",
      "source": [
        "This means a is a variables that holds a value 'Sun'\n",
        "\n",
        "\n",
        "**Note:** Python Supports dynamic data types, that means you do not need to specify the type of a variable, it will detect automatically.\n",
        "\n",
        "\n",
        "---\n",
        "\n",
        "\n",
        "\n",
        "Checking the type of Variable with the `type()` function.\n",
        "\n",
        "Type function will return the type of the variable, this is how we can know the data type of a variable.\n",
        "\n"
      ],
      "metadata": {
        "id": "jIN1d7GpVGI9"
      }
    },
    {
      "cell_type": "code",
      "source": [
        "print(type(a))\n",
        "print(type(b))"
      ],
      "metadata": {
        "colab": {
          "base_uri": "https://localhost:8080/"
        },
        "id": "v35uRXrlXNyo",
        "outputId": "7ba8ed53-e951-4e9d-fca5-538de7e0034a"
      },
      "execution_count": 12,
      "outputs": [
        {
          "output_type": "stream",
          "name": "stdout",
          "text": [
            "<class 'float'>\n",
            "<class 'str'>\n"
          ]
        }
      ]
    },
    {
      "cell_type": "markdown",
      "source": [
        "You see the class keyword while printing the type of a variable, this is because all the variables in python are object of different classes. Here class `float` and `str` means the value of a which is `10.5` is an object of `float` class and string `Sun` is the object of `str` class. \n",
        "\n",
        "---\n",
        "## Python Data Types\n",
        "\n",
        "All whole numbers are named as `int`\n",
        "\n",
        "All decimal values in programming are named as `float`\n",
        "\n",
        "In programming, data type is an important concept.\n",
        "\n",
        "Variables can store data of different types, and different types can do different things.\n",
        "\n",
        "Python has the following data types built-in by default, in these categories:\n",
        "\n",
        "- Text Type:\t`str`\n",
        "- Numeric Types:\t`int`, `float`, `complex`\n",
        "- Sequence Types:\t`list`, `tuple`, `range`\n",
        "- Mapping Type:\t`dict`\n",
        "- Set Types:\t`set`, `frozenset`\n",
        "- Boolean Type:\t`bool`\n",
        "- Binary Types:\t`bytes`, `bytearray`, `memoryview`\n",
        "- None Type:\t`NoneType`\n",
        "\n"
      ],
      "metadata": {
        "id": "geLaE9PQXd1X"
      }
    },
    {
      "cell_type": "code",
      "source": [
        "x = \"Hello World\" # str"
      ],
      "metadata": {
        "id": "7SJlcZfadegL"
      },
      "execution_count": 20,
      "outputs": []
    },
    {
      "cell_type": "code",
      "source": [
        "x = 20 # int"
      ],
      "metadata": {
        "id": "t0kss-69dnd2"
      },
      "execution_count": 21,
      "outputs": []
    },
    {
      "cell_type": "code",
      "source": [
        "x = 20.5 # float"
      ],
      "metadata": {
        "id": "bQCOVbHJdq0j"
      },
      "execution_count": 22,
      "outputs": []
    },
    {
      "cell_type": "code",
      "source": [
        "x = 21j # complex"
      ],
      "metadata": {
        "id": "ZeSyTk1sdsmn"
      },
      "execution_count": 23,
      "outputs": []
    },
    {
      "cell_type": "code",
      "source": [
        "x = ['apple', 'orange', 'pear'] # list"
      ],
      "metadata": {
        "id": "lIyNcOVydurp"
      },
      "execution_count": 24,
      "outputs": []
    },
    {
      "cell_type": "code",
      "source": [
        "x = ('apple', 'orange', 'pear') # tuple"
      ],
      "metadata": {
        "id": "gwCx_oGwd1jp"
      },
      "execution_count": 25,
      "outputs": []
    },
    {
      "cell_type": "code",
      "source": [
        "x = range(7)"
      ],
      "metadata": {
        "id": "pNfhhgK-eDw0"
      },
      "execution_count": 26,
      "outputs": []
    },
    {
      "cell_type": "code",
      "source": [
        "x = {\"name\" : \"Joe\", \"age\" : 666} # dict"
      ],
      "metadata": {
        "id": "IJt3-SKWeImy"
      },
      "execution_count": 28,
      "outputs": []
    },
    {
      "cell_type": "code",
      "source": [
        "x = {\"apple\", \"banana\", \"cherry\"} # set"
      ],
      "metadata": {
        "id": "iixDAu9EeNS4"
      },
      "execution_count": 29,
      "outputs": []
    },
    {
      "cell_type": "code",
      "source": [
        "x = frozenset({\"apple\", \"banana\", \"cherry\"})"
      ],
      "metadata": {
        "id": "4f7VCQGQeSD4"
      },
      "execution_count": 30,
      "outputs": []
    },
    {
      "cell_type": "code",
      "source": [
        "x = True # bool"
      ],
      "metadata": {
        "id": "OtgND3sXeULz"
      },
      "execution_count": 32,
      "outputs": []
    },
    {
      "cell_type": "code",
      "source": [
        "x = None # None "
      ],
      "metadata": {
        "id": "Ed5d18cteVzQ"
      },
      "execution_count": 33,
      "outputs": []
    },
    {
      "cell_type": "markdown",
      "source": [
        "## Type casting\n",
        "\n",
        "In Python, type casting means converting a value from one type to another. For example, you can convert a number into a text string, or vice versa.\n",
        "\n",
        "Type casting is useful because different types of data are used for different purposes in a program. For example, you might use a string to store a name or a message, and use a number to store a quantity or a score.\n",
        "\n",
        "To convert a value from one type to another, you use a special function that tells Python what type you want the value to be. Some examples of these functions are \"str()\" for converting to a string, \"int()\" for converting to an integer, and \"float()\" for converting to a decimal number.\n",
        "\n",
        "\n",
        "Type casting is like changing the shape of a toy. Just like you can change a round ball into a square block, you can change a number into a word or a word into a number. But, just like you can't change a ball into a bird, you can't change some things into other things in programming. So, you use special tools to make sure you're changing the toy into the right shape that you need for your game or activity."
      ],
      "metadata": {
        "id": "pDlyCiuKebab"
      }
    },
    {
      "cell_type": "code",
      "source": [
        "age = \"10\" # here 10 is written as a string\n",
        "new_age = int(age) # we have converted it into a number\n",
        "\n",
        "# let's check the type with the help of type function\n",
        "\n",
        "print(\"Data type of age is  \",type(age)) \n",
        "print(\"Data type of new_age is  \",type(new_age)) "
      ],
      "metadata": {
        "colab": {
          "base_uri": "https://localhost:8080/"
        },
        "id": "ROICXzgseeRL",
        "outputId": "7ea06a18-8415-4d6e-e94f-6a572c52e3dd"
      },
      "execution_count": 37,
      "outputs": [
        {
          "output_type": "stream",
          "name": "stdout",
          "text": [
            "Data type of age is   <class 'str'>\n",
            "Data type of new_age is   <class 'int'>\n"
          ]
        }
      ]
    },
    {
      "cell_type": "code",
      "source": [
        "price = 4.99 # here the value is in float \n",
        "new_price = int(price) # converting it to int will also remove the decimal\n",
        "\n",
        "\n",
        "print(\"The new price is: \", new_price)"
      ],
      "metadata": {
        "colab": {
          "base_uri": "https://localhost:8080/"
        },
        "id": "t-cN1h_Pf1P9",
        "outputId": "dde4a561-008d-4618-8b78-cc379a944430"
      },
      "execution_count": 38,
      "outputs": [
        {
          "output_type": "stream",
          "name": "stdout",
          "text": [
            "The new price is:  4\n"
          ]
        }
      ]
    },
    {
      "cell_type": "code",
      "source": [
        "score = 100 \n",
        "score_text = str(score) # converting the number to a string\n",
        "\n",
        "print(type(score_text))"
      ],
      "metadata": {
        "colab": {
          "base_uri": "https://localhost:8080/"
        },
        "id": "5xgonZyVfvMR",
        "outputId": "5828e0b0-065e-484c-a743-188f9c2c562d"
      },
      "execution_count": 40,
      "outputs": [
        {
          "output_type": "stream",
          "name": "stdout",
          "text": [
            "<class 'str'>\n"
          ]
        }
      ]
    },
    {
      "cell_type": "markdown",
      "source": [
        "**Note:**  Converting a number into string will stop letting you perform any arithmetic operations with the number.\n"
      ],
      "metadata": {
        "id": "9uigWm8dfv7C"
      }
    },
    {
      "cell_type": "code",
      "source": [
        "score2 = '200'\n",
        "\n",
        "adding_score = score + score2\n",
        "\n",
        "print(adding_score)"
      ],
      "metadata": {
        "colab": {
          "base_uri": "https://localhost:8080/",
          "height": 232
        },
        "id": "h5BXnnlSfwSO",
        "outputId": "12f49590-127b-4023-c7f6-b6f028c9bbd2"
      },
      "execution_count": 41,
      "outputs": [
        {
          "output_type": "error",
          "ename": "TypeError",
          "evalue": "ignored",
          "traceback": [
            "\u001b[0;31m---------------------------------------------------------------------------\u001b[0m",
            "\u001b[0;31mTypeError\u001b[0m                                 Traceback (most recent call last)",
            "\u001b[0;32m<ipython-input-41-499880dbb354>\u001b[0m in \u001b[0;36m<cell line: 3>\u001b[0;34m()\u001b[0m\n\u001b[1;32m      1\u001b[0m \u001b[0mscore2\u001b[0m \u001b[0;34m=\u001b[0m \u001b[0;34m'200'\u001b[0m\u001b[0;34m\u001b[0m\u001b[0;34m\u001b[0m\u001b[0m\n\u001b[1;32m      2\u001b[0m \u001b[0;34m\u001b[0m\u001b[0m\n\u001b[0;32m----> 3\u001b[0;31m \u001b[0madding_score\u001b[0m \u001b[0;34m=\u001b[0m \u001b[0mscore\u001b[0m \u001b[0;34m+\u001b[0m \u001b[0mscore2\u001b[0m\u001b[0;34m\u001b[0m\u001b[0;34m\u001b[0m\u001b[0m\n\u001b[0m\u001b[1;32m      4\u001b[0m \u001b[0;34m\u001b[0m\u001b[0m\n\u001b[1;32m      5\u001b[0m \u001b[0mprint\u001b[0m\u001b[0;34m(\u001b[0m\u001b[0madding_score\u001b[0m\u001b[0;34m)\u001b[0m\u001b[0;34m\u001b[0m\u001b[0;34m\u001b[0m\u001b[0m\n",
            "\u001b[0;31mTypeError\u001b[0m: unsupported operand type(s) for +: 'int' and 'str'"
          ]
        }
      ]
    },
    {
      "cell_type": "code",
      "source": [],
      "metadata": {
        "id": "HJx3GSIsfsh8"
      },
      "execution_count": 41,
      "outputs": []
    },
    {
      "cell_type": "code",
      "source": [],
      "metadata": {
        "id": "-oedWe8Dg8_7"
      },
      "execution_count": 41,
      "outputs": []
    },
    {
      "cell_type": "code",
      "source": [],
      "metadata": {
        "id": "GramOJ8Eg9Wz"
      },
      "execution_count": null,
      "outputs": []
    },
    {
      "cell_type": "markdown",
      "source": [
        "# Practice Questions:\n",
        "\n",
        "1. **Write a program to print following output:**\n",
        "\n",
        "```python\n",
        "Your Name\n",
        "\n",
        "  College Name\n",
        "\n",
        "    City Name\n",
        "```\n",
        "Like this:\n",
        "```python\n",
        "Don Joe\n",
        "\n",
        "    DPS\n",
        "\n",
        "      Riyadh\n",
        "\n",
        "```\n",
        "\n",
        "- **solution**\n",
        "    \n",
        "    ```python\n",
        "    print(\"Himanshu\\n\\tDAVV\\n\\t\\tIndore\")\n",
        "    ```\n",
        "    \n",
        "\n",
        "2. **Write a program to print following output:**\n",
        "\n",
        "```python\n",
        "*\n",
        "**\n",
        "***\n",
        "```\n",
        "\n",
        "- solution\n",
        "    \n",
        "```python\n",
        "\n",
        "print(\"*\\n**\\n***\")\n",
        "\n",
        "```\n",
        "    \n",
        "\n",
        "3. **Write a program to print following output:**\n",
        "\n",
        "```python\n",
        "    *\n",
        "*        *\n",
        "    *\n",
        "```\n",
        "\n",
        "- solution\n",
        "\n",
        "```python\n",
        "print(\"    *\\n*\\t*\\n    *\")\n",
        "```"
      ],
      "metadata": {
        "id": "nNnXF67PPL5o"
      }
    },
    {
      "cell_type": "code",
      "source": [],
      "metadata": {
        "id": "S5UqjZV4RAov"
      },
      "execution_count": null,
      "outputs": []
    }
  ]
}