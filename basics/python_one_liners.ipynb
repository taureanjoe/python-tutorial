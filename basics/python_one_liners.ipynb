{
 "cells": [
  {
   "cell_type": "markdown",
   "id": "fbb97af5",
   "metadata": {},
   "source": [
    "# Introduction to Python One Liners\n",
    "\n",
    "One-liners are minimalistic programs to solve problems. In many cases, rewriting a piece of code as a Python one-liner will improve readability and make the code more Pythonic.\n",
    "\n",
    "An example is using list comprehension to reduce the creation of lists into a single line of code.\n"
   ]
  },
  {
   "cell_type": "code",
   "execution_count": 6,
   "id": "7a888766",
   "metadata": {},
   "outputs": [
    {
     "name": "stdout",
     "output_type": "stream",
     "text": [
      "[0, 1, 4, 9, 16, 25, 36, 49, 64, 81]\n"
     ]
    }
   ],
   "source": [
    "# Before\n",
    "\n",
    "squares = []\n",
    "\n",
    "for i in range(10):\n",
    "    squares.append(i**2)\n",
    "    \n",
    "print(squares)"
   ]
  },
  {
   "cell_type": "code",
   "execution_count": 7,
   "id": "82b27200",
   "metadata": {},
   "outputs": [
    {
     "name": "stdout",
     "output_type": "stream",
     "text": [
      "[0, 1, 4, 9, 16, 25, 36, 49, 64, 81]\n"
     ]
    }
   ],
   "source": [
    "# After\n",
    "\n",
    "print([i**2 for i in range(10)])"
   ]
  },
  {
   "cell_type": "markdown",
   "id": "eddd2e85",
   "metadata": {},
   "source": [
    "In this code snippet, we need five lines of code to create a list of the first 10 square numbers and print it to the shell. However, it’s much better to use a one-liner solution that accomplishes the same thing in a more readable and concise way.\n"
   ]
  },
  {
   "cell_type": "code",
   "execution_count": null,
   "id": "e767553b",
   "metadata": {},
   "outputs": [],
   "source": []
  }
 ],
 "metadata": {
  "kernelspec": {
   "display_name": "Python 3 (ipykernel)",
   "language": "python",
   "name": "python3"
  },
  "language_info": {
   "codemirror_mode": {
    "name": "ipython",
    "version": 3
   },
   "file_extension": ".py",
   "mimetype": "text/x-python",
   "name": "python",
   "nbconvert_exporter": "python",
   "pygments_lexer": "ipython3",
   "version": "3.10.6"
  }
 },
 "nbformat": 4,
 "nbformat_minor": 5
}
